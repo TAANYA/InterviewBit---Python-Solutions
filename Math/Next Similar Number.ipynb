{
 "cells": [
  {
   "cell_type": "markdown",
   "metadata": {},
   "source": [
    "First, find the larger digit from right hand side and stop at that index\n",
    "then swap digit with each other and\n",
    "reversed the remaining list from the swapped index to all the right."
   ]
  },
  {
   "cell_type": "code",
   "execution_count": 145,
   "metadata": {},
   "outputs": [],
   "source": [
    "def solve(A):\n",
    "    A = [int(digit) for digit in A]\n",
    "    n = len(A)\n",
    "    k = n-2\n",
    "    while k >= 0:\n",
    "        if A[k+1] > A[k]:\n",
    "            break\n",
    "        k -= 1\n",
    "        \n",
    "    if k < 0:\n",
    "        return -1\n",
    "    else:\n",
    "        for l in range(n-1, k, -1):\n",
    "            if A[l] > A[k]:\n",
    "                break\n",
    "        A[l], A[k] = A[k], A[l]\n",
    "        A[k + 1:] = reversed(A[k + 1:])\n",
    "    return ''.join(str(digit) for digit in A)"
   ]
  },
  {
   "cell_type": "code",
   "execution_count": 153,
   "metadata": {},
   "outputs": [
    {
     "data": {
      "text/plain": [
       "'123544678'"
      ]
     },
     "execution_count": 153,
     "metadata": {},
     "output_type": "execute_result"
    }
   ],
   "source": [
    "solve('123487654')"
   ]
  },
  {
   "cell_type": "code",
   "execution_count": null,
   "metadata": {},
   "outputs": [],
   "source": []
  }
 ],
 "metadata": {
  "kernelspec": {
   "display_name": "Python 3",
   "language": "python",
   "name": "python3"
  },
  "language_info": {
   "codemirror_mode": {
    "name": "ipython",
    "version": 3
   },
   "file_extension": ".py",
   "mimetype": "text/x-python",
   "name": "python",
   "nbconvert_exporter": "python",
   "pygments_lexer": "ipython3",
   "version": "3.8.3"
  }
 },
 "nbformat": 4,
 "nbformat_minor": 4
}
