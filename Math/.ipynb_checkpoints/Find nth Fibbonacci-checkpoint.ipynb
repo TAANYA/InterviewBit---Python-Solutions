{
 "cells": [
  {
   "cell_type": "code",
   "execution_count": 1,
   "metadata": {},
   "outputs": [],
   "source": [
    "d={}\n",
    "def fibi(n):\n",
    "    if(n==0):\n",
    "        return 0\n",
    "    elif(n==1 or n==2):\n",
    "        return 1\n",
    "    elif(n==4):\n",
    "        return 3\n",
    "    if(n in d):\n",
    "        return d[n]\n",
    "    elif(n%2!=0):\n",
    "        d[n]=(fibi(n//2)**2 + fibi(n//2+1)**2)%(10**9+7)\n",
    "        return d[n]\n",
    "    else:\n",
    "        d[n]=(2*fibi(n//2)**2 + fibi(n//2-3)*fibi(n//2))%(10**9+7)\n",
    "        return d[n]\n",
    "class Solution:\n",
    "    # @param A : integer\n",
    "    # @return an integer\n",
    "    def solve(self, a):\n",
    "        return fibi(a)"
   ]
  },
  {
   "cell_type": "code",
   "execution_count": null,
   "metadata": {},
   "outputs": [],
   "source": []
  }
 ],
 "metadata": {
  "kernelspec": {
   "display_name": "Python 3",
   "language": "python",
   "name": "python3"
  },
  "language_info": {
   "codemirror_mode": {
    "name": "ipython",
    "version": 3
   },
   "file_extension": ".py",
   "mimetype": "text/x-python",
   "name": "python",
   "nbconvert_exporter": "python",
   "pygments_lexer": "ipython3",
   "version": "3.8.3"
  }
 },
 "nbformat": 4,
 "nbformat_minor": 4
}
