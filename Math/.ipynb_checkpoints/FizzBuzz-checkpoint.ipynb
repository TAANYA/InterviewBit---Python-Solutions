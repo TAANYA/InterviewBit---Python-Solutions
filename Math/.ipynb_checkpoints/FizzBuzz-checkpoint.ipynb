{
 "cells": [
  {
   "cell_type": "code",
   "execution_count": 8,
   "metadata": {},
   "outputs": [],
   "source": [
    "class Solution:\n",
    "    # @param A : integer\n",
    "    # @return a list of strings\n",
    "    def fizzBuzz(self, A):\n",
    "        fizzbuzz_A = []\n",
    "        for i in range(1, A+1):\n",
    "            if i%3 == 0 and i%5 == 0:\n",
    "                fizzbuzz_A.append(\"FizzBuzz\")\n",
    "            elif i%3 == 0: \n",
    "                fizzbuzz_A.append(\"Fizz\")\n",
    "            elif i%5 == 0:\n",
    "                fizzbuzz_A.append(\"Buzz\")\n",
    "            else:\n",
    "                fizzbuzz_A.append(str(i))\n",
    "        return fizzbuzz_A"
   ]
  },
  {
   "cell_type": "code",
   "execution_count": null,
   "metadata": {},
   "outputs": [],
   "source": []
  }
 ],
 "metadata": {
  "kernelspec": {
   "display_name": "Python 3",
   "language": "python",
   "name": "python3"
  },
  "language_info": {
   "codemirror_mode": {
    "name": "ipython",
    "version": 3
   },
   "file_extension": ".py",
   "mimetype": "text/x-python",
   "name": "python",
   "nbconvert_exporter": "python",
   "pygments_lexer": "ipython3",
   "version": "3.8.3"
  }
 },
 "nbformat": 4,
 "nbformat_minor": 4
}
